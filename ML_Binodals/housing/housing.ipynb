{
 "cells": [
  {
   "cell_type": "code",
   "execution_count": 63,
   "id": "edc446d6-415d-4658-adf9-28dd591f1900",
   "metadata": {},
   "outputs": [],
   "source": [
    "import os\n",
    "seed_value = 0\n",
    "os.environ[\"PYTHONHASHSEED\"]=str(seed_value)\n",
    "\n",
    "import pandas as pd\n",
    "import numpy  as np\n",
    "import random\n",
    "import tensorflow as tf\n",
    "import tensorflow.keras as keras\n",
    "from tensorflow.keras.models import Sequential\n",
    "from tensorflow.keras.layers import Dense\n",
    "from tensorflow.keras.layers import Input\n",
    "from tensorflow.keras.layers import Layer\n",
    "\n",
    "from sklearn.model_selection import train_test_split\n",
    "from sklearn.model_selection import cross_val_score\n",
    "from sklearn.model_selection import KFold\n",
    "from sklearn.preprocessing import StandardScaler\n",
    "from sklearn.pipeline import Pipeline\n",
    "\n",
    "def reset_random_seeds():\n",
    "   os.environ['PYTHONHASHSEED']=str(1)\n",
    "   tf.random.set_seed(1)\n",
    "   np.random.seed(1)\n",
    "   random.seed(1)\n",
    "\n",
    "reset_random_seeds()"
   ]
  },
  {
   "cell_type": "code",
   "execution_count": 25,
   "id": "afcd1181-9dfa-4786-b5de-ba917bd789b7",
   "metadata": {},
   "outputs": [],
   "source": [
    "# load dataset\n",
    "dataframe = pd.read_csv(\"housing.csv\", delim_whitespace=True, header=None)\n",
    "dataset = dataframe.values\n",
    "# split into input (X) and output (Y) variables\n",
    "X = dataset[:,0:13]\n",
    "Y = dataset[:,13]\n"
   ]
  },
  {
   "cell_type": "code",
   "execution_count": 26,
   "id": "b61ca490-6ca7-494a-8738-3525649d891f",
   "metadata": {},
   "outputs": [],
   "source": [
    "# create a model\n",
    "input  = keras.Input(shape=(13,), name=\"input\")\n",
    "x      = Dense(32, activation=\"relu\", name=\"dense_1\")(input)\n",
    "output = Dense(1, kernel_initializer=\"normal\", name=\"output\")(x)\n",
    "model  = keras.Model(inputs=input, outputs=output)\n",
    "model.compile(loss=\"mean_squared_error\", optimizer=\"adam\")"
   ]
  },
  {
   "cell_type": "code",
   "execution_count": 27,
   "id": "c5bce3cc-4a90-4e0c-b6b9-a0ca2703ad5c",
   "metadata": {},
   "outputs": [],
   "source": [
    "train_input, test_input, train_output, test_output = train_test_split(X, Y, test_size=0.2, random_state=42)"
   ]
  },
  {
   "cell_type": "code",
   "execution_count": 34,
   "id": "5a4fd9a1-7493-4bb1-8878-23d673792f67",
   "metadata": {},
   "outputs": [
    {
     "name": "stdout",
     "output_type": "stream",
     "text": [
      "Epoch 1/64\n",
      "11/11 [==============================] - 0s 5ms/step - loss: 47.2943 - val_loss: 45.1693\n",
      "Epoch 2/64\n",
      "11/11 [==============================] - 0s 3ms/step - loss: 49.1154 - val_loss: 44.4344\n",
      "Epoch 3/64\n",
      "11/11 [==============================] - 0s 3ms/step - loss: 47.1410 - val_loss: 45.7528\n",
      "Epoch 4/64\n",
      "11/11 [==============================] - 0s 3ms/step - loss: 46.5068 - val_loss: 44.1479\n",
      "Epoch 5/64\n",
      "11/11 [==============================] - 0s 3ms/step - loss: 46.1452 - val_loss: 43.2973\n",
      "Epoch 6/64\n",
      "11/11 [==============================] - 0s 3ms/step - loss: 47.2709 - val_loss: 44.7346\n",
      "Epoch 7/64\n",
      "11/11 [==============================] - 0s 3ms/step - loss: 46.0868 - val_loss: 43.5043\n",
      "Epoch 8/64\n",
      "11/11 [==============================] - 0s 3ms/step - loss: 45.6061 - val_loss: 42.7880\n",
      "Epoch 9/64\n",
      "11/11 [==============================] - 0s 3ms/step - loss: 45.0433 - val_loss: 42.8686\n",
      "Epoch 10/64\n",
      "11/11 [==============================] - 0s 3ms/step - loss: 44.9484 - val_loss: 43.8639\n",
      "Epoch 11/64\n",
      "11/11 [==============================] - 0s 3ms/step - loss: 49.7597 - val_loss: 45.5117\n",
      "Epoch 12/64\n",
      "11/11 [==============================] - 0s 3ms/step - loss: 47.8857 - val_loss: 42.3272\n",
      "Epoch 13/64\n",
      "11/11 [==============================] - 0s 3ms/step - loss: 44.3159 - val_loss: 41.8721\n",
      "Epoch 14/64\n",
      "11/11 [==============================] - 0s 3ms/step - loss: 43.4987 - val_loss: 42.6286\n",
      "Epoch 15/64\n",
      "11/11 [==============================] - 0s 3ms/step - loss: 43.2692 - val_loss: 42.9912\n",
      "Epoch 16/64\n",
      "11/11 [==============================] - 0s 3ms/step - loss: 43.0910 - val_loss: 42.6272\n",
      "Epoch 17/64\n",
      "11/11 [==============================] - 0s 3ms/step - loss: 42.8441 - val_loss: 41.6012\n",
      "Epoch 18/64\n",
      "11/11 [==============================] - 0s 3ms/step - loss: 42.5371 - val_loss: 40.9660\n",
      "Epoch 19/64\n",
      "11/11 [==============================] - 0s 3ms/step - loss: 42.1477 - val_loss: 40.9010\n",
      "Epoch 20/64\n",
      "11/11 [==============================] - 0s 3ms/step - loss: 41.6804 - val_loss: 40.9439\n",
      "Epoch 21/64\n",
      "11/11 [==============================] - 0s 3ms/step - loss: 41.7710 - val_loss: 41.5003\n",
      "Epoch 22/64\n",
      "11/11 [==============================] - 0s 3ms/step - loss: 41.8340 - val_loss: 40.8386\n",
      "Epoch 23/64\n",
      "11/11 [==============================] - 0s 3ms/step - loss: 41.1873 - val_loss: 40.5284\n",
      "Epoch 24/64\n",
      "11/11 [==============================] - 0s 3ms/step - loss: 41.6544 - val_loss: 41.5052\n",
      "Epoch 25/64\n",
      "11/11 [==============================] - 0s 3ms/step - loss: 40.9943 - val_loss: 40.1674\n",
      "Epoch 26/64\n",
      "11/11 [==============================] - 0s 3ms/step - loss: 41.2928 - val_loss: 41.3121\n",
      "Epoch 27/64\n",
      "11/11 [==============================] - 0s 3ms/step - loss: 40.9499 - val_loss: 39.9195\n",
      "Epoch 28/64\n",
      "11/11 [==============================] - 0s 3ms/step - loss: 40.1888 - val_loss: 40.3012\n",
      "Epoch 29/64\n",
      "11/11 [==============================] - 0s 3ms/step - loss: 39.8001 - val_loss: 40.8010\n",
      "Epoch 30/64\n",
      "11/11 [==============================] - 0s 3ms/step - loss: 39.8700 - val_loss: 38.7974\n",
      "Epoch 31/64\n",
      "11/11 [==============================] - 0s 3ms/step - loss: 39.8671 - val_loss: 39.7807\n",
      "Epoch 32/64\n",
      "11/11 [==============================] - 0s 3ms/step - loss: 40.5059 - val_loss: 41.7746\n",
      "Epoch 33/64\n",
      "11/11 [==============================] - 0s 3ms/step - loss: 43.7525 - val_loss: 41.1708\n",
      "Epoch 34/64\n",
      "11/11 [==============================] - 0s 3ms/step - loss: 40.1700 - val_loss: 40.1146\n",
      "Epoch 35/64\n",
      "11/11 [==============================] - 0s 3ms/step - loss: 38.1896 - val_loss: 38.5966\n",
      "Epoch 36/64\n",
      "11/11 [==============================] - 0s 3ms/step - loss: 40.1138 - val_loss: 38.3088\n",
      "Epoch 37/64\n",
      "11/11 [==============================] - 0s 3ms/step - loss: 39.4694 - val_loss: 41.0071\n",
      "Epoch 38/64\n",
      "11/11 [==============================] - 0s 3ms/step - loss: 38.4134 - val_loss: 39.8864\n",
      "Epoch 39/64\n",
      "11/11 [==============================] - 0s 3ms/step - loss: 37.7364 - val_loss: 39.0170\n",
      "Epoch 40/64\n",
      "11/11 [==============================] - 0s 3ms/step - loss: 37.8179 - val_loss: 39.1415\n",
      "Epoch 41/64\n",
      "11/11 [==============================] - 0s 3ms/step - loss: 38.2230 - val_loss: 40.6356\n",
      "Epoch 42/64\n",
      "11/11 [==============================] - 0s 3ms/step - loss: 37.8120 - val_loss: 40.9900\n",
      "Epoch 43/64\n",
      "11/11 [==============================] - 0s 3ms/step - loss: 37.0868 - val_loss: 39.7161\n",
      "Epoch 44/64\n",
      "11/11 [==============================] - 0s 3ms/step - loss: 37.4610 - val_loss: 39.8580\n",
      "Epoch 45/64\n",
      "11/11 [==============================] - 0s 3ms/step - loss: 39.0182 - val_loss: 40.8312\n",
      "Epoch 46/64\n",
      "11/11 [==============================] - 0s 3ms/step - loss: 36.9853 - val_loss: 37.7754\n",
      "Epoch 47/64\n",
      "11/11 [==============================] - 0s 3ms/step - loss: 37.6604 - val_loss: 40.6276\n",
      "Epoch 48/64\n",
      "11/11 [==============================] - 0s 3ms/step - loss: 39.2233 - val_loss: 39.9821\n",
      "Epoch 49/64\n",
      "11/11 [==============================] - 0s 5ms/step - loss: 37.0088 - val_loss: 38.2415\n",
      "Epoch 50/64\n",
      "11/11 [==============================] - 0s 3ms/step - loss: 40.7069 - val_loss: 37.8844\n",
      "Epoch 51/64\n",
      "11/11 [==============================] - 0s 3ms/step - loss: 36.3334 - val_loss: 39.2963\n",
      "Epoch 52/64\n",
      "11/11 [==============================] - 0s 3ms/step - loss: 35.4052 - val_loss: 39.0482\n",
      "Epoch 53/64\n",
      "11/11 [==============================] - 0s 3ms/step - loss: 35.5773 - val_loss: 39.1114\n",
      "Epoch 54/64\n",
      "11/11 [==============================] - 0s 3ms/step - loss: 35.8207 - val_loss: 38.5308\n",
      "Epoch 55/64\n",
      "11/11 [==============================] - 0s 3ms/step - loss: 36.0173 - val_loss: 39.6977\n",
      "Epoch 56/64\n",
      "11/11 [==============================] - 0s 3ms/step - loss: 35.2139 - val_loss: 39.1563\n",
      "Epoch 57/64\n",
      "11/11 [==============================] - 0s 3ms/step - loss: 35.1872 - val_loss: 39.5102\n",
      "Epoch 58/64\n",
      "11/11 [==============================] - 0s 3ms/step - loss: 35.6862 - val_loss: 39.2915\n",
      "Epoch 59/64\n",
      "11/11 [==============================] - 0s 3ms/step - loss: 34.3883 - val_loss: 39.4173\n",
      "Epoch 60/64\n",
      "11/11 [==============================] - 0s 3ms/step - loss: 37.2810 - val_loss: 40.5636\n",
      "Epoch 61/64\n",
      "11/11 [==============================] - 0s 3ms/step - loss: 35.0459 - val_loss: 38.5274\n",
      "Epoch 62/64\n",
      "11/11 [==============================] - 0s 3ms/step - loss: 34.4306 - val_loss: 38.2163\n",
      "Epoch 63/64\n",
      "11/11 [==============================] - 0s 3ms/step - loss: 33.9756 - val_loss: 39.1890\n",
      "Epoch 64/64\n",
      "11/11 [==============================] - 0s 3ms/step - loss: 35.4691 - val_loss: 38.9820\n"
     ]
    }
   ],
   "source": [
    "history = model.fit(train_input, train_output, epochs=64, validation_split=0.2)"
   ]
  },
  {
   "cell_type": "code",
   "execution_count": 35,
   "id": "284ab483-c9bb-4a03-8f09-ba50a1637fb3",
   "metadata": {},
   "outputs": [
    {
     "name": "stdout",
     "output_type": "stream",
     "text": [
      "7/7 [==============================] - 0s 775us/step - loss: 29.1585\n"
     ]
    }
   ],
   "source": [
    "results = model.evaluate(test_input, test_output, batch_size=16)"
   ]
  },
  {
   "cell_type": "code",
   "execution_count": 47,
   "id": "fcfab5dc-309b-4490-9d3b-a30c1c03c7f4",
   "metadata": {},
   "outputs": [],
   "source": [
    "\n",
    "\n"
   ]
  },
  {
   "cell_type": "code",
   "execution_count": 84,
   "id": "4c8a9b0b-903d-4001-b036-be7b356a38e0",
   "metadata": {},
   "outputs": [
    {
     "name": "stdout",
     "output_type": "stream",
     "text": [
      "(13,)\n"
     ]
    }
   ],
   "source": [
    "# write a custom loss function\n",
    "class MyActivityRegularizer(Layer):\n",
    "  \"\"\"Layer that creates an activity sparsity regularization loss.\"\"\"\n",
    "\n",
    "  def __init__(self, rate=1e-2):\n",
    "    super().__init__()\n",
    "    self.rate = rate\n",
    "\n",
    "  def call(self, inputs):\n",
    "    # We use `add_loss` to create a regularization loss\n",
    "    # that depends on the inputs.\n",
    "    print(inputs[1].shape)\n",
    "    self.add_loss(self.rate * tf.reduce_sum(tf.math.abs(inputs)))\n",
    "    return inputs\n",
    "\n",
    "# write a custom loss function\n",
    "class MyOutputRegularizer(Layer):\n",
    "  \"\"\"Layer that creates an activity sparsity regularization loss.\"\"\"\n",
    "\n",
    "    def __init__(self, rate=1e-2):\n",
    "        super().__init__()\n",
    "        self.rate = rate\n",
    "    \n",
    "    def call(self, inputs, outputs):\n",
    "        # We use `add_loss` to create a regularization loss\n",
    "        # that depends on the inputs.\n",
    "        \n",
    "        self.add_loss() # self.rate * tf.reduce_sum(tf.math.abs(inputs)))\n",
    "        return inputs\n",
    "\n",
    "\n",
    "# create a model\n",
    "input  = keras.Input(shape=(13,), name=\"input\")\n",
    "x      = Dense(32, activation=\"relu\", name=\"dense_1\")(rinput)\n",
    "output = Dense(1, kernel_initializer=\"normal\", name=\"output\")(x)\n",
    "model  = keras.Model(inputs=input, outputs=output)\n",
    "model.compile(loss=\"mse\", optimizer=\"adam\")"
   ]
  },
  {
   "cell_type": "code",
   "execution_count": 83,
   "id": "6e3c5436-56e7-4e53-811c-4b359f73a5c8",
   "metadata": {},
   "outputs": [
    {
     "name": "stdout",
     "output_type": "stream",
     "text": [
      "Epoch 1/64\n",
      "(None, 13)\n",
      "(None, 13)\n",
      " 1/11 [=>............................] - ETA: 2s - loss: 581.8397(None, 13)\n",
      "11/11 [==============================] - 0s 9ms/step - loss: 449.8635 - val_loss: 387.1940\n",
      "Epoch 2/64\n",
      "11/11 [==============================] - 0s 3ms/step - loss: 412.2959 - val_loss: 329.7606\n",
      "Epoch 3/64\n",
      "11/11 [==============================] - 0s 3ms/step - loss: 377.4549 - val_loss: 323.3709\n",
      "Epoch 4/64\n",
      "11/11 [==============================] - 0s 3ms/step - loss: 362.8045 - val_loss: 321.2244\n",
      "Epoch 5/64\n",
      "11/11 [==============================] - 0s 3ms/step - loss: 357.7128 - val_loss: 321.0466\n",
      "Epoch 6/64\n",
      "11/11 [==============================] - 0s 3ms/step - loss: 356.0757 - val_loss: 321.8427\n",
      "Epoch 7/64\n",
      "11/11 [==============================] - 0s 3ms/step - loss: 354.1900 - val_loss: 320.7390\n",
      "Epoch 8/64\n",
      "11/11 [==============================] - 0s 3ms/step - loss: 352.7669 - val_loss: 318.7299\n",
      "Epoch 9/64\n",
      "11/11 [==============================] - 0s 3ms/step - loss: 351.1919 - val_loss: 317.4350\n",
      "Epoch 10/64\n",
      "11/11 [==============================] - 0s 3ms/step - loss: 350.2501 - val_loss: 317.1022\n",
      "Epoch 11/64\n",
      "11/11 [==============================] - 0s 3ms/step - loss: 356.0127 - val_loss: 319.5578\n",
      "Epoch 12/64\n",
      "11/11 [==============================] - 0s 3ms/step - loss: 353.8100 - val_loss: 316.0854\n",
      "Epoch 13/64\n",
      "11/11 [==============================] - 0s 3ms/step - loss: 347.6121 - val_loss: 315.2857\n",
      "Epoch 14/64\n",
      "11/11 [==============================] - 0s 3ms/step - loss: 346.7137 - val_loss: 315.3147\n",
      "Epoch 15/64\n",
      "11/11 [==============================] - 0s 3ms/step - loss: 346.4917 - val_loss: 315.3590\n",
      "Epoch 16/64\n",
      "11/11 [==============================] - 0s 3ms/step - loss: 345.6552 - val_loss: 316.0182\n",
      "Epoch 17/64\n",
      "11/11 [==============================] - 0s 3ms/step - loss: 344.8340 - val_loss: 314.6092\n",
      "Epoch 18/64\n",
      "11/11 [==============================] - 0s 3ms/step - loss: 344.1876 - val_loss: 313.7113\n",
      "Epoch 19/64\n",
      "11/11 [==============================] - 0s 3ms/step - loss: 344.3217 - val_loss: 313.3074\n",
      "Epoch 20/64\n",
      "11/11 [==============================] - 0s 3ms/step - loss: 343.4469 - val_loss: 313.0247\n",
      "Epoch 21/64\n",
      "11/11 [==============================] - 0s 3ms/step - loss: 343.3155 - val_loss: 315.0204\n",
      "Epoch 22/64\n",
      "11/11 [==============================] - 0s 3ms/step - loss: 344.7285 - val_loss: 314.2653\n",
      "Epoch 23/64\n",
      "11/11 [==============================] - 0s 3ms/step - loss: 342.4584 - val_loss: 312.5510\n",
      "Epoch 24/64\n",
      "11/11 [==============================] - 0s 3ms/step - loss: 343.5394 - val_loss: 314.2231\n",
      "Epoch 25/64\n",
      "11/11 [==============================] - 0s 3ms/step - loss: 342.0464 - val_loss: 312.2923\n",
      "Epoch 26/64\n",
      "11/11 [==============================] - 0s 3ms/step - loss: 341.0802 - val_loss: 313.4343\n",
      "Epoch 27/64\n",
      "11/11 [==============================] - 0s 3ms/step - loss: 341.3885 - val_loss: 311.4829\n",
      "Epoch 28/64\n",
      "11/11 [==============================] - 0s 3ms/step - loss: 340.7753 - val_loss: 312.3284\n",
      "Epoch 29/64\n",
      "11/11 [==============================] - 0s 3ms/step - loss: 339.6836 - val_loss: 313.0543\n",
      "Epoch 30/64\n",
      "11/11 [==============================] - 0s 3ms/step - loss: 340.1985 - val_loss: 309.2776\n",
      "Epoch 31/64\n",
      "11/11 [==============================] - 0s 5ms/step - loss: 339.4448 - val_loss: 311.0009\n",
      "Epoch 32/64\n",
      "11/11 [==============================] - 0s 3ms/step - loss: 341.9014 - val_loss: 316.5519\n",
      "Epoch 33/64\n",
      "11/11 [==============================] - 0s 3ms/step - loss: 344.0571 - val_loss: 312.3996\n",
      "Epoch 34/64\n",
      "11/11 [==============================] - 0s 3ms/step - loss: 342.4131 - val_loss: 311.3168\n",
      "Epoch 35/64\n",
      "11/11 [==============================] - 0s 3ms/step - loss: 337.4166 - val_loss: 309.0727\n",
      "Epoch 36/64\n",
      "11/11 [==============================] - 0s 3ms/step - loss: 337.2172 - val_loss: 308.4309\n",
      "Epoch 37/64\n",
      "11/11 [==============================] - 0s 3ms/step - loss: 335.6738 - val_loss: 308.6055\n",
      "Epoch 38/64\n",
      "11/11 [==============================] - 0s 3ms/step - loss: 336.4849 - val_loss: 306.5466\n",
      "Epoch 39/64\n",
      "11/11 [==============================] - 0s 3ms/step - loss: 335.1005 - val_loss: 306.0436\n",
      "Epoch 40/64\n",
      "11/11 [==============================] - 0s 3ms/step - loss: 334.9394 - val_loss: 307.7581\n",
      "Epoch 41/64\n",
      "11/11 [==============================] - 0s 3ms/step - loss: 335.4845 - val_loss: 308.4928\n",
      "Epoch 42/64\n",
      "11/11 [==============================] - 0s 3ms/step - loss: 333.5972 - val_loss: 308.1447\n",
      "Epoch 43/64\n",
      "11/11 [==============================] - 0s 3ms/step - loss: 332.8050 - val_loss: 307.1431\n",
      "Epoch 44/64\n",
      "11/11 [==============================] - 0s 3ms/step - loss: 334.1909 - val_loss: 312.1787\n",
      "Epoch 45/64\n",
      "11/11 [==============================] - 0s 3ms/step - loss: 337.7905 - val_loss: 310.7381\n",
      "Epoch 46/64\n",
      "11/11 [==============================] - 0s 3ms/step - loss: 334.0477 - val_loss: 304.7551\n",
      "Epoch 47/64\n",
      "11/11 [==============================] - 0s 3ms/step - loss: 333.6358 - val_loss: 309.0576\n",
      "Epoch 48/64\n",
      "11/11 [==============================] - 0s 3ms/step - loss: 336.2843 - val_loss: 307.3572\n",
      "Epoch 49/64\n",
      "11/11 [==============================] - 0s 3ms/step - loss: 332.4606 - val_loss: 305.9469\n",
      "Epoch 50/64\n",
      "11/11 [==============================] - 0s 3ms/step - loss: 337.6560 - val_loss: 305.6467\n",
      "Epoch 51/64\n",
      "11/11 [==============================] - 0s 3ms/step - loss: 333.6492 - val_loss: 304.3486\n",
      "Epoch 52/64\n",
      "11/11 [==============================] - 0s 3ms/step - loss: 330.2794 - val_loss: 305.4922\n",
      "Epoch 53/64\n",
      "11/11 [==============================] - 0s 3ms/step - loss: 330.1472 - val_loss: 305.7192\n",
      "Epoch 54/64\n",
      "11/11 [==============================] - 0s 3ms/step - loss: 329.8526 - val_loss: 303.0645\n",
      "Epoch 55/64\n",
      "11/11 [==============================] - 0s 3ms/step - loss: 331.2628 - val_loss: 306.3577\n",
      "Epoch 56/64\n",
      "11/11 [==============================] - 0s 3ms/step - loss: 330.1886 - val_loss: 302.8545\n",
      "Epoch 57/64\n",
      "11/11 [==============================] - 0s 3ms/step - loss: 328.5773 - val_loss: 304.4265\n",
      "Epoch 58/64\n",
      "11/11 [==============================] - 0s 3ms/step - loss: 328.8391 - val_loss: 303.6566\n",
      "Epoch 59/64\n",
      "11/11 [==============================] - 0s 3ms/step - loss: 326.8586 - val_loss: 305.2172\n",
      "Epoch 60/64\n",
      "11/11 [==============================] - 0s 3ms/step - loss: 331.1510 - val_loss: 304.5430\n",
      "Epoch 61/64\n",
      "11/11 [==============================] - 0s 3ms/step - loss: 328.7192 - val_loss: 302.6801\n",
      "Epoch 62/64\n",
      "11/11 [==============================] - 0s 3ms/step - loss: 327.4878 - val_loss: 302.8943\n",
      "Epoch 63/64\n",
      "11/11 [==============================] - 0s 3ms/step - loss: 326.6031 - val_loss: 302.7956\n",
      "Epoch 64/64\n",
      "11/11 [==============================] - 0s 3ms/step - loss: 327.2444 - val_loss: 301.9299\n"
     ]
    }
   ],
   "source": [
    "history = model.fit(train_input, train_output, epochs=64, validation_split=0.2)"
   ]
  },
  {
   "cell_type": "code",
   "execution_count": 37,
   "id": "05d091cf-5135-4134-9db1-602ff8bee8b4",
   "metadata": {},
   "outputs": [
    {
     "name": "stdout",
     "output_type": "stream",
     "text": [
      "7/7 [==============================] - 0s 784us/step - loss: 29.0024\n"
     ]
    }
   ],
   "source": [
    "results = model.evaluate(test_input, test_output, batch_size=16)"
   ]
  },
  {
   "cell_type": "code",
   "execution_count": 77,
   "id": "25311b4d-a1da-44c5-b725-bd9acf8302a5",
   "metadata": {},
   "outputs": [
    {
     "data": {
      "text/plain": [
       "array([[ True, False, False, ..., False, False, False],\n",
       "       [ True,  True, False, ..., False, False, False],\n",
       "       [ True,  True, False, ..., False, False, False],\n",
       "       ...,\n",
       "       [ True,  True, False, ..., False, False, False],\n",
       "       [ True,  True, False, ..., False, False, False],\n",
       "       [ True,  True, False, ..., False, False, False]])"
      ]
     },
     "execution_count": 77,
     "metadata": {},
     "output_type": "execute_result"
    }
   ],
   "source": []
  },
  {
   "cell_type": "code",
   "execution_count": 58,
   "id": "28e08ca7-8e5e-4635-91c1-6cf7ed5881be",
   "metadata": {},
   "outputs": [
    {
     "data": {
      "text/plain": [
       "keras.engine.keras_tensor.KerasTensor"
      ]
     },
     "execution_count": 58,
     "metadata": {},
     "output_type": "execute_result"
    }
   ],
   "source": [
    "type(input)"
   ]
  },
  {
   "cell_type": "code",
   "execution_count": 71,
   "id": "8413e4bd-5666-42e9-838a-868ca099b14b",
   "metadata": {},
   "outputs": [
    {
     "data": {
      "text/plain": [
       "False"
      ]
     },
     "execution_count": 71,
     "metadata": {},
     "output_type": "execute_result"
    }
   ],
   "source": [
    "(X<0).any()"
   ]
  },
  {
   "cell_type": "code",
   "execution_count": null,
   "id": "9d8a47bf-91f9-4de5-a6a9-5ebe5047803e",
   "metadata": {},
   "outputs": [],
   "source": []
  }
 ],
 "metadata": {
  "kernelspec": {
   "display_name": "binodal",
   "language": "python",
   "name": "binodal"
  },
  "language_info": {
   "codemirror_mode": {
    "name": "ipython",
    "version": 3
   },
   "file_extension": ".py",
   "mimetype": "text/x-python",
   "name": "python",
   "nbconvert_exporter": "python",
   "pygments_lexer": "ipython3",
   "version": "3.9.18"
  }
 },
 "nbformat": 4,
 "nbformat_minor": 5
}
