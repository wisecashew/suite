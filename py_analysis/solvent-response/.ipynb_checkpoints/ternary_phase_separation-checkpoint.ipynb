{
 "cells": [
  {
   "cell_type": "code",
   "execution_count": 8,
   "id": "99cdb192",
   "metadata": {},
   "outputs": [],
   "source": [
    "import numpy as np\n",
    "from scipy.optimize import fsolve"
   ]
  },
  {
   "cell_type": "code",
   "execution_count": 2,
   "id": "ef38116f",
   "metadata": {},
   "outputs": [],
   "source": [
    "# solvent molar volume \n",
    "Ns = 1\n",
    "\n",
    "# cosolvent molar volume \n",
    "Nc = 1\n",
    "\n",
    "# polymer molar volume\n",
    "Np = 1\n",
    "\n",
    "# chi values\n",
    "chi_sc = 2.65\n",
    "chi_ps = 2.65\n",
    "chi_pc = 2.65"
   ]
  },
  {
   "cell_type": "code",
   "execution_count": 4,
   "id": "08ec1b97",
   "metadata": {},
   "outputs": [],
   "source": [
    "def mu_s_alpha (phi):\n",
    "    mixing_potential    = np.log(phi[0]) + 1 - phi[0] - Ns/Np * phi[1] - Ns/Nc * phi[2]\n",
    "    energetic_potential = Ns * (phi[1]**2 * chi_ps + phi[2]**2 * chi_sc + phi[1] * phi[2] * (chi_ps + chi_sc - chi_pc))\n",
    "    \n",
    "    return mixing_potential + energetic_potential\n",
    "\n",
    "def mu_p_alpha (phi):\n",
    "    mixing_potential    = np.log(phi[1]) + 1 - phi[1] - Np/Ns * phi[0] - Np/Nc * phi[2]\n",
    "    energetic_potential = Np * (phi[0]**2 * chi_ps + phi[2]**2 * chi_pc + phi[0] * phi[2] * (chi_ps + chi_pc - chi_sc))\n",
    "\n",
    "    return mixing_potential + energetic_potential\n",
    "\n",
    "def mu_c_alpha (phi):\n",
    "    mixing_potential    = np.log(phi[2]) + 1 - phi[2] - Nc/Ns * phi[0] - Nc/Np * phi[1]\n",
    "    energetic_potential = Nc * (phi[0]**2 * chi_ac + phi[1]**2 * chi_pc + phi[0] * phi[1] * (chi_sc + chi_pc - chi_ps))\n",
    "\n",
    "    return mixing_potential + energetic_potential\n",
    "\n",
    "def mass_balance_alpha (phi):\n",
    "    return phi[0] + phi[1] + phi[2] - 1\n"
   ]
  },
  {
   "cell_type": "code",
   "execution_count": 5,
   "id": "fd158417",
   "metadata": {},
   "outputs": [],
   "source": [
    "def mu_s_beta (phi_s_beta, phi_c_beta, phi_p_beta):\n",
    "    mixing_potential    = np.log(phi_s_beta) + 1 - phi_s_beta - Ns/Np * phi_p_beta - Ns/Nc * phi_c_beta\n",
    "    energetic_potential = - chi_pc * Ns * phi_p_beta * phi_c_beta + chi_sc * Ns * (1 - phi_s_beta) * phi_c_beta + chi_ps * Ns * (1 - phi_s_beta) * phi_p_beta \n",
    "    \n",
    "    return mixing_potential + energetic_potential\n",
    "\n",
    "def mu_c_beta (phi_s_beta, phi_c_beta, phi_p_beta):\n",
    "    mixing_potential    = np.log(phi_c_beta) + 1 - phi_c_beta - Nc/Np * phi_p_beta - Nc/Ns * phi_s_beta\n",
    "    energetic_potential = - chi_ps * Nc * phi_p_beta * phi_s_beta + chi_sc * Nc * (1 - phi_c_beta) * phi_s_beta + chi_pc * Nc * (1 - phi_c_beta) * phi_p_beta \n",
    "\n",
    "    return mixing_potential + energetic_potential\n",
    "\n",
    "def mu_p_beta (phi_s_beta, phi_c_beta, phi_p_beta):\n",
    "    mixing_potential    = np.log (phi_p_beta) + 1 - phi_p_beta - Np/Ns * phi_s_beta - Np/Nc * phi_c_beta\n",
    "    energetic_potential = - chi_sc * Np * phi_s_beta * phi_s_beta + chi_pc * Np * (1 - phi_p_beta) * phi_c_beta + chi_ps * Np * (1 - phi_p_beta) * phi_s_beta\n",
    "\n",
    "    return mixing_potential + energetic_potential\n",
    "\n",
    "def mass_balance_beta (phi):\n",
    "    return phi[0] + phi[1] + phi[2] - 1\n"
   ]
  },
  {
   "cell_type": "code",
   "execution_count": 6,
   "id": "bc49a4a3",
   "metadata": {},
   "outputs": [],
   "source": [
    "def mu_s_gamma (phi_s_gamma, phi_c_gamma, phi_p_gamma):\n",
    "    mixing_potential    = np.log(phi_s_gamma) + 1 - phi_s_gamma - Ns/Np * phi_p_gamma - Ns/Nc * phi_c_gamma\n",
    "    energetic_potential = - chi_pc * Ns * phi_p_gamma * phi_c_gamma + chi_sc * Ns * (1 - phi_s_gamma) * phi_c_gamma + chi_ps * Ns * (1 - phi_s_gamma) * phi_p_gamma \n",
    "    \n",
    "    return mixing_potential + energetic_potential\n",
    "\n",
    "def mu_c_gamma (phi_s_gamma, phi_c_gamma, phi_p_gamma):\n",
    "    mixing_potential    = np.log(phi_c_gamma) + 1 - phi_c_gamma - Nc/Np * phi_p_gamma - Nc/Ns * phi_s_gamma\n",
    "    energetic_potential = - chi_ps * Nc * phi_p_gamma * phi_s_gamma + chi_sc * Nc * (1 - phi_c_gamma) * phi_s_gamma + chi_pc * Nc * (1 - phi_c_gamma) * phi_p_gamma \n",
    "\n",
    "    return mixing_potential + energetic_potential\n",
    "\n",
    "def mu_p_gamma (phi_s_gamma, phi_c_gamma, phi_p_gamma):\n",
    "    mixing_potential    = np.log (phi_p_gamma) + 1 - phi_p_gamma - Np/Ns * phi_s_gamma - Np/Nc * phi_c_gamma\n",
    "    energetic_potential = - chi_sc * Np * phi_s_gamma * phi_s_gamma + chi_pc * Np * (1 - phi_p_gamma) * phi_c_gamma + chi_ps * Np * (1 - phi_p_gamma) * phi_s_gamma\n",
    "\n",
    "    return mixing_potential + energetic_potential\n",
    "\n",
    "def mass_balance_gamma (phi_s_gamma, phi_c_gamma, phi_p_gamma):\n",
    "    return phi_s_gamma + phi_c_gamma + phi_p_gamma - 1\n"
   ]
  },
  {
   "cell_type": "code",
   "execution_count": null,
   "id": "51ed6a04",
   "metadata": {},
   "outputs": [],
   "source": []
  },
  {
   "cell_type": "code",
   "execution_count": null,
   "id": "30f8386b",
   "metadata": {},
   "outputs": [],
   "source": []
  },
  {
   "cell_type": "code",
   "execution_count": null,
   "id": "a6edd979",
   "metadata": {},
   "outputs": [],
   "source": []
  },
  {
   "cell_type": "code",
   "execution_count": null,
   "id": "67fe2da9",
   "metadata": {},
   "outputs": [],
   "source": []
  },
  {
   "cell_type": "code",
   "execution_count": null,
   "id": "d6cc7659",
   "metadata": {},
   "outputs": [],
   "source": []
  },
  {
   "cell_type": "code",
   "execution_count": null,
   "id": "bc987296",
   "metadata": {},
   "outputs": [],
   "source": []
  },
  {
   "cell_type": "code",
   "execution_count": 16,
   "id": "58d01210",
   "metadata": {},
   "outputs": [],
   "source": [
    "def f1 (x):\n",
    "    return x[0]*x[1] + x[1]**2 - 3\n",
    "\n",
    "def f2 (x):\n",
    "    return np.exp (x[0]*x[1]) + x[1]\n",
    "\n",
    "def f (x):\n",
    "    return [f1(x), f2(x)]"
   ]
  },
  {
   "cell_type": "code",
   "execution_count": 24,
   "id": "80b8b088",
   "metadata": {},
   "outputs": [],
   "source": [
    "sols = fsolve (f, [-0.275, -1.6])"
   ]
  },
  {
   "cell_type": "code",
   "execution_count": 25,
   "id": "b05f9cf6",
   "metadata": {},
   "outputs": [
    {
     "data": {
      "text/plain": [
       "[-1.6009416015094757e-12, 2.5838664541311118e-11]"
      ]
     },
     "execution_count": 25,
     "metadata": {},
     "output_type": "execute_result"
    }
   ],
   "source": [
    "f(sols)"
   ]
  },
  {
   "cell_type": "code",
   "execution_count": 26,
   "id": "787c1c57",
   "metadata": {},
   "outputs": [
    {
     "data": {
      "text/plain": [
       "array([-0.29211   , -1.59214294])"
      ]
     },
     "execution_count": 26,
     "metadata": {},
     "output_type": "execute_result"
    }
   ],
   "source": [
    "sols"
   ]
  },
  {
   "cell_type": "code",
   "execution_count": null,
   "id": "81809216",
   "metadata": {},
   "outputs": [],
   "source": []
  }
 ],
 "metadata": {
  "kernelspec": {
   "display_name": "CG",
   "language": "python",
   "name": "cg"
  },
  "language_info": {
   "codemirror_mode": {
    "name": "ipython",
    "version": 3
   },
   "file_extension": ".py",
   "mimetype": "text/x-python",
   "name": "python",
   "nbconvert_exporter": "python",
   "pygments_lexer": "ipython3",
   "version": "3.8.16"
  }
 },
 "nbformat": 4,
 "nbformat_minor": 5
}
