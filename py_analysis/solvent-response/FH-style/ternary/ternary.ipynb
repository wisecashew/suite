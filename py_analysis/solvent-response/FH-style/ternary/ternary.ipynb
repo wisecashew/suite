{
 "cells": [
  {
   "cell_type": "code",
   "execution_count": 86,
   "metadata": {},
   "outputs": [],
   "source": [
    "import numpy as np\n",
    "import matplotlib \n",
    "import matplotlib.pyplot as plt \n",
    "import matplotlib.cm as cm \n",
    "import matplotlib.colors as colors \n",
    "import matplotlib.patheffects as pe \n",
    "from scipy.optimize import fsolve\n",
    "from scipy.optimize import root\n",
    "import scipy.spatial.distance\n",
    "from scipy.spatial.distance import cdist \n",
    "from matplotlib.ticker import StrMethodFormatter\n",
    "import scipy.optimize as opt \n",
    "from matplotlib.ticker import StrMethodFormatter\n",
    "from matplotlib.ticker import Locator, AutoMinorLocator, MultipleLocator\n",
    "import mpltern\n",
    "import sys\n",
    "import argparse\n",
    "import time\n",
    "%matplotlib inline"
   ]
  },
  {
   "cell_type": "code",
   "execution_count": 2,
   "metadata": {},
   "outputs": [],
   "source": [
    "N = 32\n",
    "chi_ac = 0\n",
    "chi_ab = -1\n",
    "chi_bc = -10\n",
    "\n",
    "va = 1\n",
    "vb = N\n",
    "vc = 1\n",
    "\n",
    "def stab_crit (p_a, p_b, c_ab, c_bc, c_ac):\n",
    "    return (1/(N*p_b) + 1/(1-p_a - p_b) - 2 * c_bc) * (1/p_a + 1/(1-p_a - p_b) - 2 * c_ac) - (1/(1-p_a-p_b) + c_ab - c_bc - c_ac) ** 2\n",
    "\n",
    "# FIND PHI_B GIVEN PHI_A\n",
    "mu_a = lambda phi_a, phi_b: np.log(phi_a)         + 1 - phi_a - va/vb * phi_b - va/vc * (1-phi_a-phi_b) + va * (phi_b**2 * chi_ab + (1-phi_a-phi_b)**2 * chi_ac + phi_b * (1-phi_a-phi_b) * (chi_ab + chi_ac - chi_bc) ) \n",
    "mu_b = lambda phi_a, phi_b: np.log(phi_b)         + 1 - phi_b - vb/va * phi_a - vb/vc * (1-phi_a-phi_b) + vb * (phi_a**2 * chi_ab + (1-phi_a-phi_b)**2 * chi_bc + phi_a * (1-phi_a-phi_b) * (chi_ab + chi_bc - chi_ac) )\n",
    "mu_c = lambda phi_a, phi_b: np.log(1-phi_a-phi_b) + 1 - (1-phi_a-phi_b) - vc/va * phi_a - vc/vb * phi_b + vc * (phi_a**2 * chi_ac + phi_b**2 * chi_bc + phi_a * phi_b * (chi_ac + chi_bc - chi_ab) )\n"
   ]
  },
  {
   "cell_type": "code",
   "execution_count": 78,
   "metadata": {},
   "outputs": [
    {
     "data": {
      "text/plain": [
       "Text(0.5, 0, 'Vol. frac. C')"
      ]
     },
     "execution_count": 78,
     "metadata": {},
     "output_type": "execute_result"
    },
    {
     "data": {
      "image/png": "[encoded data removed]",
      "text/plain": [
       "<Figure size 360x360 with 1 Axes>"
      ]
     },
     "metadata": {
      "needs_background": "light"
     },
     "output_type": "display_data"
    }
   ],
   "source": [
    "start = time.time()\n",
    "lsize = 3\n",
    "plt.rcParams['font.family'] = 'Arial'\n",
    "font = {'color':  'black',\n",
    "    'weight': 'normal',\n",
    "    'size': lsize}\n",
    "\n",
    "fig = plt.figure(num=1, figsize=(5,5))\n",
    "ax  = fig.add_subplot (projection=\"ternary\")    \n",
    "ax.grid ()\n",
    "positions = ['tick1', 'tick2']\n",
    "for position in positions:\n",
    "    ax.taxis.set_ticks_position(position)\n",
    "    ax.laxis.set_ticks_position(position)\n",
    "    ax.raxis.set_ticks_position(position)\n",
    "\n",
    "ax.set_tlabel('Vol. frac. A')\n",
    "ax.set_llabel('Vol. frac. B')\n",
    "ax.set_rlabel('Vol. frac. C')"
   ]
  },
  {
   "cell_type": "code",
   "execution_count": 138,
   "metadata": {},
   "outputs": [],
   "source": [
    "fix_b = 1e-4\n",
    "def mu_eq (phi):\n",
    "    eq1 = mu_a(phi[0], fix_b) - mu_a(phi[1], phi[2])\n",
    "    eq2 = mu_b(phi[0], fix_b) - mu_b(phi[1], phi[2])\n",
    "    eq3 = mu_c(phi[0], fix_b) - mu_c(phi[1], phi[2])\n",
    "    \n",
    "    return [eq1, eq2, eq3]"
   ]
  },
  {
   "cell_type": "code",
   "execution_count": 139,
   "metadata": {},
   "outputs": [
    {
     "name": "stdout",
     "output_type": "stream",
     "text": [
      "delta mu = [0.8826183515805986, 162.5108295210179, -4.076214802902859]\n",
      "[0.99 0.2  0.1 ]\n"
     ]
    },
    {
     "name": "stderr",
     "output_type": "stream",
     "text": [
      "/var/folders/gn/nzb5h_193xs6scmlhvpn67txypqxcp/T/ipykernel_37186/1437694451.py:14: RuntimeWarning: invalid value encountered in log\n",
      "  mu_a = lambda phi_a, phi_b: np.log(phi_a)         + 1 - phi_a - va/vb * phi_b - va/vc * (1-phi_a-phi_b) + va * (phi_b**2 * chi_ab + (1-phi_a-phi_b)**2 * chi_ac + phi_b * (1-phi_a-phi_b) * (chi_ab + chi_ac - chi_bc) )\n"
     ]
    }
   ],
   "source": [
    "root = fsolve (mu_eq, [0.99, 0.2, 0.1])\n",
    "print(f\"delta mu = {mu_eq(root)}\")\n",
    "print(root)\n"
   ]
  },
  {
   "cell_type": "code",
   "execution_count": 129,
   "metadata": {},
   "outputs": [],
   "source": [
    "ax.scatter (root[0], fix_b, 1-fix_b-root[0])\n",
    "ax.scatter (root[1], root[2], 1-root[2]-root[1])\n",
    "fig.savefig(\"test\")"
   ]
  },
  {
   "cell_type": "code",
   "execution_count": 33,
   "metadata": {},
   "outputs": [
    {
     "data": {
      "text/plain": [
       "73.3125257045181"
      ]
     },
     "execution_count": 33,
     "metadata": {},
     "output_type": "execute_result"
    }
   ],
   "source": [
    "stab_crit(root[1], root[2], chi_ab, chi_bc, chi_ac)"
   ]
  },
  {
   "cell_type": "code",
   "execution_count": null,
   "metadata": {},
   "outputs": [],
   "source": [
    "# seed that worked for phi_b1=1e-6, phi_a1=0.999, phi_a2=0.18, phi_b2=0.55"
   ]
  },
  {
   "cell_type": "code",
   "execution_count": null,
   "metadata": {},
   "outputs": [],
   "source": []
  },
  {
   "cell_type": "code",
   "execution_count": 3,
   "metadata": {},
   "outputs": [],
   "source": [
    "# generate a fine mesh \n",
    "mesh  = 500\n",
    "phi_b = np.linspace (0.00001, 0.6, mesh)\n",
    "phi_b = np.repeat (phi_b, mesh)\n",
    "phi_a = np.zeros  (phi_b.shape)\n",
    "for i in range (mesh):\n",
    "    upper_lim = 0.999 if phi_b[i*mesh] < 0.001 else 1-phi_b[i*mesh] - 0.001\n",
    "    phi_a[i*mesh:(i+1)*mesh] = np.linspace (0.001, upper_lim, mesh)"
   ]
  },
  {
   "cell_type": "code",
   "execution_count": 4,
   "metadata": {},
   "outputs": [],
   "source": [
    "to_keep = stab_crit (phi_a, phi_b, chi_ab, chi_bc, chi_ac) > 0\n",
    "phi_b   = phi_b [to_keep]\n",
    "phi_a   = phi_a [to_keep]"
   ]
  },
  {
   "cell_type": "code",
   "execution_count": 5,
   "metadata": {},
   "outputs": [
    {
     "name": "stdout",
     "output_type": "stream",
     "text": [
      "158861\n"
     ]
    }
   ],
   "source": [
    "print (np.sum(to_keep))"
   ]
  },
  {
   "cell_type": "code",
   "execution_count": 6,
   "metadata": {},
   "outputs": [],
   "source": [
    "phis       = np.array([phi_a, phi_b, 1-phi_a-phi_b]).T\n",
    "chem_pot_a = mu_a (phi_a, phi_b)\n",
    "chem_pot_b = mu_b (phi_a, phi_b)\n",
    "chem_pot_c = mu_c (phi_a, phi_b)\n",
    "mu         = np.array ([chem_pot_a, chem_pot_b, chem_pot_c]).T"
   ]
  },
  {
   "cell_type": "code",
   "execution_count": 7,
   "metadata": {},
   "outputs": [],
   "source": [
    "# problem section as meshsize goes up\n",
    "# start = time.time()\n",
    "# phi_dists = np.linalg.norm(phis[np.newaxis,:,:]-phis[:,np.newaxis,:],axis=-1)\n",
    "# mu_dists  = np.linalg.norm(mu[np.newaxis,:,:]-mu[:,np.newaxis,:], axis=-1)\n",
    "# stop = time.time()\n",
    "# print (f\"Elapsed time is {stop-start} seconds.\")"
   ]
  },
  {
   "cell_type": "code",
   "execution_count": 8,
   "metadata": {},
   "outputs": [
    {
     "name": "stdout",
     "output_type": "stream",
     "text": [
      "(158861, 3)\n",
      "(158861, 3)\n"
     ]
    }
   ],
   "source": [
    "print(mu.shape)\n",
    "print(phis.shape)"
   ]
  },
  {
   "cell_type": "code",
   "execution_count": 9,
   "metadata": {},
   "outputs": [
    {
     "name": "stdout",
     "output_type": "stream",
     "text": [
      "On i = 0...\n",
      "On i = 1...\n",
      "On i = 2...\n",
      "On i = 3...\n",
      "On i = 4...\n"
     ]
    },
    {
     "ename": "KeyboardInterrupt",
     "evalue": "",
     "output_type": "error",
     "traceback": [
      "\u001b[0;31m---------------------------------------------------------------------------\u001b[0m",
      "\u001b[0;31mKeyboardInterrupt\u001b[0m                         Traceback (most recent call last)",
      "\u001b[0;32m/var/folders/gn/nzb5h_193xs6scmlhvpn67txypqxcp/T/ipykernel_34891/3056071471.py\u001b[0m in \u001b[0;36m<module>\u001b[0;34m\u001b[0m\n\u001b[1;32m     13\u001b[0m     \u001b[0;32mif\u001b[0m \u001b[0mi\u001b[0m \u001b[0;34m<\u001b[0m \u001b[0mblock_num\u001b[0m \u001b[0;34m-\u001b[0m \u001b[0;36m1\u001b[0m\u001b[0;34m:\u001b[0m\u001b[0;34m\u001b[0m\u001b[0;34m\u001b[0m\u001b[0m\n\u001b[1;32m     14\u001b[0m         \u001b[0mphi_dists\u001b[0m\u001b[0;34m[\u001b[0m\u001b[0mi\u001b[0m\u001b[0;34m*\u001b[0m\u001b[0mblock_size\u001b[0m\u001b[0;34m:\u001b[0m\u001b[0;34m(\u001b[0m\u001b[0mi\u001b[0m\u001b[0;34m+\u001b[0m\u001b[0;36m1\u001b[0m\u001b[0;34m)\u001b[0m\u001b[0;34m*\u001b[0m\u001b[0mblock_size\u001b[0m\u001b[0;34m,\u001b[0m\u001b[0;34m:\u001b[0m\u001b[0;34m]\u001b[0m \u001b[0;34m=\u001b[0m \u001b[0mnp\u001b[0m\u001b[0;34m.\u001b[0m\u001b[0mlinalg\u001b[0m\u001b[0;34m.\u001b[0m\u001b[0mnorm\u001b[0m\u001b[0;34m(\u001b[0m\u001b[0mphi_big_block\u001b[0m \u001b[0;34m-\u001b[0m \u001b[0mphis\u001b[0m\u001b[0;34m[\u001b[0m\u001b[0mi\u001b[0m\u001b[0;34m*\u001b[0m\u001b[0mblock_size\u001b[0m\u001b[0;34m:\u001b[0m\u001b[0;34m(\u001b[0m\u001b[0mi\u001b[0m\u001b[0;34m+\u001b[0m\u001b[0;36m1\u001b[0m\u001b[0;34m)\u001b[0m\u001b[0;34m*\u001b[0m\u001b[0mblock_size\u001b[0m\u001b[0;34m,\u001b[0m\u001b[0mnp\u001b[0m\u001b[0;34m.\u001b[0m\u001b[0mnewaxis\u001b[0m\u001b[0;34m,\u001b[0m\u001b[0;34m:\u001b[0m\u001b[0;34m]\u001b[0m\u001b[0;34m,\u001b[0m     \u001b[0maxis\u001b[0m\u001b[0;34m=\u001b[0m\u001b[0;34m-\u001b[0m\u001b[0;36m1\u001b[0m\u001b[0;34m)\u001b[0m\u001b[0;34m\u001b[0m\u001b[0;34m\u001b[0m\u001b[0m\n\u001b[0;32m---> 15\u001b[0;31m         \u001b[0mmu_dists\u001b[0m \u001b[0;34m[\u001b[0m\u001b[0mi\u001b[0m\u001b[0;34m*\u001b[0m\u001b[0mblock_size\u001b[0m\u001b[0;34m:\u001b[0m\u001b[0;34m(\u001b[0m\u001b[0mi\u001b[0m\u001b[0;34m+\u001b[0m\u001b[0;36m1\u001b[0m\u001b[0;34m)\u001b[0m\u001b[0;34m*\u001b[0m\u001b[0mblock_size\u001b[0m\u001b[0;34m,\u001b[0m\u001b[0;34m:\u001b[0m\u001b[0;34m]\u001b[0m \u001b[0;34m=\u001b[0m \u001b[0mnp\u001b[0m\u001b[0;34m.\u001b[0m\u001b[0mlinalg\u001b[0m\u001b[0;34m.\u001b[0m\u001b[0mnorm\u001b[0m\u001b[0;34m(\u001b[0m\u001b[0mmu_big_block\u001b[0m  \u001b[0;34m-\u001b[0m \u001b[0mmu\u001b[0m\u001b[0;34m[\u001b[0m\u001b[0mi\u001b[0m\u001b[0;34m*\u001b[0m\u001b[0mblock_size\u001b[0m\u001b[0;34m:\u001b[0m\u001b[0;34m(\u001b[0m\u001b[0mi\u001b[0m\u001b[0;34m+\u001b[0m\u001b[0;36m1\u001b[0m\u001b[0;34m)\u001b[0m\u001b[0;34m*\u001b[0m\u001b[0mblock_size\u001b[0m\u001b[0;34m,\u001b[0m\u001b[0mnp\u001b[0m\u001b[0;34m.\u001b[0m\u001b[0mnewaxis\u001b[0m\u001b[0;34m,\u001b[0m\u001b[0;34m:\u001b[0m\u001b[0;34m]\u001b[0m\u001b[0;34m,\u001b[0m \u001b[0maxis\u001b[0m\u001b[0;34m=\u001b[0m\u001b[0;34m-\u001b[0m\u001b[0;36m1\u001b[0m\u001b[0;34m)\u001b[0m\u001b[0;34m\u001b[0m\u001b[0;34m\u001b[0m\u001b[0m\n\u001b[0m\u001b[1;32m     16\u001b[0m \u001b[0;34m\u001b[0m\u001b[0m\n\u001b[1;32m     17\u001b[0m     \u001b[0;32melse\u001b[0m\u001b[0;34m:\u001b[0m\u001b[0;34m\u001b[0m\u001b[0;34m\u001b[0m\u001b[0m\n",
      "\u001b[0;31mKeyboardInterrupt\u001b[0m: "
     ]
    }
   ],
   "source": [
    "start = time.time()\n",
    "block_size = 1000\n",
    "block_num  = np.sum(to_keep) // block_size + 1\n",
    "\n",
    "phi_big_block  = phis[np.newaxis,:,:]\n",
    "phi_dists      = np.zeros ((np.sum(to_keep), np.sum(to_keep)))\n",
    "\n",
    "mu_big_block   = mu[np.newaxis,:,:]\n",
    "mu_dists       = np.zeros ((np.sum(to_keep), np.sum(to_keep)))\n",
    "\n",
    "for i in range (block_num):\n",
    "    print (f\"On i = {i}...\")\n",
    "    if i < block_num - 1:\n",
    "        phi_dists[i*block_size:(i+1)*block_size,:] = np.linalg.norm(phi_big_block - phis[i*block_size:(i+1)*block_size,np.newaxis,:],     axis=-1)\n",
    "        mu_dists [i*block_size:(i+1)*block_size,:] = np.linalg.norm(mu_big_block  - mu[i*block_size:(i+1)*block_size,np.newaxis,:], axis=-1)\n",
    "        \n",
    "    else:\n",
    "        phi_dists[i*block_size:,:] = np.linalg.norm(phi_big_block-phis[i*block_size:,np.newaxis,:]      , axis=-1)\n",
    "        mu_dists [i*block_size:,:] = np.linalg.norm(mu_big_block  - mu[i*block_size:,np.newaxis,:], axis=-1)\n",
    "\n",
    "print (\"Done!\")\n",
    "stop = time.time()\n",
    "print (f\"Elapsed time is {stop-start} seconds.\")\n"
   ]
  },
  {
   "cell_type": "code",
   "execution_count": null,
   "metadata": {},
   "outputs": [],
   "source": [
    "mask = dists > 0.1 \n",
    "phi_dists = np.where (mask, phi_dists, np.inf)\n",
    "mu_dists  = np.where (mask, mu_dists , np.inf)"
   ]
  },
  {
   "cell_type": "code",
   "execution_count": null,
   "metadata": {},
   "outputs": [],
   "source": []
  },
  {
   "cell_type": "code",
   "execution_count": null,
   "metadata": {},
   "outputs": [],
   "source": []
  },
  {
   "cell_type": "code",
   "execution_count": null,
   "metadata": {},
   "outputs": [],
   "source": []
  },
  {
   "cell_type": "code",
   "execution_count": null,
   "metadata": {},
   "outputs": [],
   "source": []
  }
 ],
 "metadata": {
  "kernelspec": {
   "display_name": "cgschnet",
   "language": "python",
   "name": "cgschnet"
  },
  "language_info": {
   "codemirror_mode": {
    "name": "ipython",
    "version": 3
   },
   "file_extension": ".py",
   "mimetype": "text/x-python",
   "name": "python",
   "nbconvert_exporter": "python",
   "pygments_lexer": "ipython3",
   "version": "3.9.7"
  }
 },
 "nbformat": 4,
 "nbformat_minor": 4
}
