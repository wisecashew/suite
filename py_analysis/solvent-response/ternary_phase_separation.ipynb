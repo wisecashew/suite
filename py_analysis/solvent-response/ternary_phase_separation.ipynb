{
 "cells": [
  {
   "cell_type": "code",
   "execution_count": 24,
   "id": "e558b722",
   "metadata": {},
   "outputs": [],
   "source": [
    "import numpy as np\n",
    "from scipy.optimize import fsolve"
   ]
  },
  {
   "cell_type": "code",
   "execution_count": 25,
   "id": "640d1975",
   "metadata": {},
   "outputs": [],
   "source": [
    "# solvent molar volume \n",
    "Ns = 1\n",
    "\n",
    "# cosolvent molar volume \n",
    "Nc = 1\n",
    "\n",
    "# polymer molar volume\n",
    "Np = 1\n",
    "\n",
    "# chi values\n",
    "chi_sc = 2.65\n",
    "chi_ps = 2.65\n",
    "chi_pc = 2.65"
   ]
  },
  {
   "cell_type": "code",
   "execution_count": 26,
   "id": "4905ab2a",
   "metadata": {},
   "outputs": [],
   "source": [
    "def mu_s_alpha (phi):\n",
    "    mixing_potential    = np.log(phi[0]) + 1 - phi[0] - Ns/Np * phi[1] - Ns/Nc * phi[2]\n",
    "    energetic_potential = Ns * (phi[1]**2 * chi_ps + phi[2]**2 * chi_sc + phi[1] * phi[2] * (chi_ps + chi_sc - chi_pc))\n",
    "    \n",
    "    return mixing_potential + energetic_potential\n",
    "\n",
    "def mu_p_alpha (phi):\n",
    "    mixing_potential    = np.log(phi[1]) + 1 - phi[1] - Np/Ns * phi[0] - Np/Nc * phi[2]\n",
    "    energetic_potential = Np * (phi[0]**2 * chi_ps + phi[2]**2 * chi_pc + phi[0] * phi[2] * (chi_ps + chi_pc - chi_sc))\n",
    "\n",
    "    return mixing_potential + energetic_potential\n",
    "\n",
    "def mu_c_alpha (phi):\n",
    "    mixing_potential    = np.log(phi[2]) + 1 - phi[2] - Nc/Ns * phi[0] - Nc/Np * phi[1]\n",
    "    energetic_potential = Nc * (phi[0]**2 * chi_sc + phi[1]**2 * chi_pc + phi[0] * phi[1] * (chi_sc + chi_pc - chi_ps))\n",
    "\n",
    "    return mixing_potential + energetic_potential\n",
    "\n"
   ]
  },
  {
   "cell_type": "code",
   "execution_count": 27,
   "id": "8cedee4f",
   "metadata": {},
   "outputs": [],
   "source": [
    "def mu_s_beta (phi):\n",
    "    mixing_potential    = np.log(phi[3]) + 1 - phi[3] - Ns/Np * phi[4] - Ns/Nc * phi[5]\n",
    "    energetic_potential = Ns * (phi[4]**2 * chi_ps + phi[5]**2 * chi_sc + phi[4] * phi[5] * (chi_ps + chi_sc - chi_pc))\n",
    "    \n",
    "    return mixing_potential + energetic_potential\n",
    "\n",
    "def mu_p_beta (phi):\n",
    "    mixing_potential    = np.log(phi[4]) + 1 - phi[4] - Np/Ns * phi[3] - Np/Nc * phi[5]\n",
    "    energetic_potential = Np * (phi[3]**2 * chi_ps + phi[5]**2 * chi_pc + phi[3] * phi[5] * (chi_ps + chi_pc - chi_sc))\n",
    "\n",
    "    return mixing_potential + energetic_potential\n",
    "\n",
    "def mu_c_beta (phi):\n",
    "    mixing_potential    = np.log(phi[5]) + 1 - phi[5] - Nc/Ns * phi[3] - Nc/Np * phi[4]\n",
    "    energetic_potential = Nc * (phi[3]**2 * chi_sc + phi[4]**2 * chi_pc + phi[3] * phi[4] * (chi_sc + chi_pc - chi_ps))\n",
    "\n",
    "    return mixing_potential + energetic_potential\n"
   ]
  },
  {
   "cell_type": "code",
   "execution_count": 28,
   "id": "3cc6bc95",
   "metadata": {},
   "outputs": [],
   "source": [
    "def mu_s_gamma (phi):\n",
    "    mixing_potential    = np.log(phi[6]) + 1 - phi[6] - Ns/Np * phi[7] - Ns/Nc * phi[8]\n",
    "    energetic_potential = Ns * (phi[7]**2 * chi_ps + phi[8]**2 * chi_sc + phi[7] * phi[8] * (chi_ps + chi_sc - chi_pc))\n",
    "    \n",
    "    return mixing_potential + energetic_potential\n",
    "\n",
    "def mu_p_gamma (phi):\n",
    "    mixing_potential    = np.log(phi[7]) + 1 - phi[7] - Np/Ns * phi[6] - Np/Nc * phi[8]\n",
    "    energetic_potential = Np * (phi[6]**2 * chi_ps + phi[8]**2 * chi_pc + phi[6] * phi[8] * (chi_ps + chi_pc - chi_sc))\n",
    "\n",
    "    return mixing_potential + energetic_potential\n",
    "\n",
    "def mu_c_gamma (phi):\n",
    "    mixing_potential    = np.log(phi[8]) + 1 - phi[8] - Nc/Ns * phi[6] - Nc/Np * phi[7]\n",
    "    energetic_potential = Nc * (phi[6]**2 * chi_sc + phi[7]**2 * chi_pc + phi[6] * phi[7] * (chi_sc + chi_pc - chi_ps))\n",
    "\n",
    "    return mixing_potential + energetic_potential\n"
   ]
  },
  {
   "cell_type": "code",
   "execution_count": 30,
   "id": "ed194b04",
   "metadata": {},
   "outputs": [],
   "source": [
    "def mu_constraints (phi):\n",
    "    c1 = mu_s_alpha (phi) - mu_s_beta  (phi)\n",
    "    c2 = mu_s_alpha (phi) - mu_s_gamma (phi)\n",
    "    c3 = mu_p_alpha (phi) - mu_p_beta  (phi)\n",
    "    c4 = mu_p_alpha (phi) - mu_p_gamma (phi)\n",
    "    c5 = mu_c_alpha (phi) - mu_c_beta  (phi)\n",
    "    c6 = mu_c_alpha (phi) - mu_c_gamma (phi)\n",
    "    c7 = phi[0] + phi[1] + phi[2] - 1\n",
    "    c8 = phi[3] + phi[4] + phi[5] - 1\n",
    "    c9 = phi[6] + phi[7] + phi[8] - 1\n",
    "    return [c1, c2, c3, c4, c5, c6, c7, c8, c9]"
   ]
  },
  {
   "cell_type": "code",
   "execution_count": 31,
   "id": "5bb3f050",
   "metadata": {},
   "outputs": [],
   "source": [
    "sol = fsolve (mu_constraints, [0.8, 0.1, 0.1, 0.1, 0.8, 0.1, 0.1, 0.1, 0.8])"
   ]
  },
  {
   "cell_type": "code",
   "execution_count": 32,
   "id": "e1806a1d",
   "metadata": {},
   "outputs": [
    {
     "data": {
      "text/plain": [
       "array([0.33333334, 0.33333335, 0.33333331, 0.33333334, 0.33333335,\n",
       "       0.33333331, 0.33333334, 0.33333335, 0.33333331])"
      ]
     },
     "execution_count": 32,
     "metadata": {},
     "output_type": "execute_result"
    }
   ],
   "source": [
    "sol"
   ]
  },
  {
   "cell_type": "code",
   "execution_count": 35,
   "id": "160534e3",
   "metadata": {},
   "outputs": [
    {
     "name": "stdout",
     "output_type": "stream",
     "text": [
      "-0.23099578158093226 -0.23099578158093226\n"
     ]
    }
   ],
   "source": [
    "print(mu_s_alpha ([0.202,0.202,0.596]), mu_s_beta ([0,0,0,0.202,0.202,0.596]))"
   ]
  },
  {
   "cell_type": "code",
   "execution_count": null,
   "id": "da67fa6f",
   "metadata": {},
   "outputs": [],
   "source": []
  },
  {
   "cell_type": "code",
   "execution_count": null,
   "id": "a51bbcdd",
   "metadata": {},
   "outputs": [],
   "source": []
  },
  {
   "cell_type": "code",
   "execution_count": null,
   "id": "b7aee704",
   "metadata": {},
   "outputs": [],
   "source": []
  },
  {
   "cell_type": "code",
   "execution_count": null,
   "id": "4beb867e",
   "metadata": {},
   "outputs": [],
   "source": []
  },
  {
   "cell_type": "code",
   "execution_count": null,
   "id": "bc83f48d",
   "metadata": {},
   "outputs": [],
   "source": []
  }
 ],
 "metadata": {
  "kernelspec": {
   "display_name": "CG",
   "language": "python",
   "name": "cg"
  },
  "language_info": {
   "codemirror_mode": {
    "name": "ipython",
    "version": 3
   },
   "file_extension": ".py",
   "mimetype": "text/x-python",
   "name": "python",
   "nbconvert_exporter": "python",
   "pygments_lexer": "ipython3",
   "version": "3.8.16"
  }
 },
 "nbformat": 4,
 "nbformat_minor": 5
}
